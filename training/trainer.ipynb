{
 "cells": [
  {
   "cell_type": "code",
   "execution_count": 1,
   "id": "ceramic-girlfriend",
   "metadata": {},
   "outputs": [],
   "source": [
    "# Imports gerais\n",
    "import pandas as pd\n",
    "import numpy as np\n",
    "import os\n",
    "import pickle\n",
    "\n",
    "# Imports de dataviz\n",
    "import seaborn as sns\n",
    "import matplotlib.pyplot as plt\n",
    "\n",
    "# Imports do SKLEARN\n",
    "from sklearn.model_selection import train_test_split\n",
    "from sklearn.pipeline import make_pipeline\n",
    "from sklearn.feature_extraction.text import CountVectorizer\n",
    "from sklearn.linear_model import LogisticRegression\n",
    "from sklearn.model_selection import StratifiedKFold\n",
    "from sklearn.model_selection import cross_validate\n",
    "from sklearn.metrics import classification_report\n",
    "from sklearn import preprocessing\n",
    "from sklearn.metrics import confusion_matrix\n"
   ]
  },
  {
   "cell_type": "markdown",
   "id": "welcome-indian",
   "metadata": {},
   "source": [
    "# Extração dos dados\n",
    "\n",
    "Nesta etapa foi realizado o carregamento dos dados e a filtragem dos dados relevantes, desta forma, somente as colunas que serão utilizadas (title e category) foram lidas e transformadas em Dataframe.\n"
   ]
  },
  {
   "cell_type": "code",
   "execution_count": 2,
   "id": "everyday-lexington",
   "metadata": {},
   "outputs": [
    {
     "name": "stdout",
     "output_type": "stream",
     "text": [
      "<class 'pandas.core.frame.DataFrame'>\n",
      "RangeIndex: 38000 entries, 0 to 37999\n",
      "Data columns (total 2 columns):\n",
      " #   Column    Non-Null Count  Dtype \n",
      "---  ------    --------------  ----- \n",
      " 0   title     38000 non-null  object\n",
      " 1   category  38000 non-null  object\n",
      "dtypes: object(2)\n",
      "memory usage: 593.9+ KB\n",
      "None\n"
     ]
    }
   ],
   "source": [
    "# Data extraction\n",
    "\n",
    "dataset_path = os.getenv(\"DATASET_PATH\")\n",
    "col_list=['title', 'category']\n",
    "df = pd.read_csv(dataset_path, usecols=col_list, encoding='utf-8')\n",
    "print(df.info())"
   ]
  },
  {
   "cell_type": "markdown",
   "id": "changing-pixel",
   "metadata": {},
   "source": [
    "# Modelagem dos dados\n",
    "\n",
    "A modelagem dos dados seguiu os seguintes passos:\n",
    "\n",
    "1. Transformação das categorias (df['category']) em *labels*, utilizando a classe LabelEncoder do Sklearn.\n",
    "\n",
    "2. Os dados foram divididos entre dados de treino e dados de teste, utilizando a função train_test_split do sklearn. A proporção de dados destinados para teste/treino foi de 0.3/0.7.\n",
    "\n",
    "3. Um pipeline para o processamento dos dados foi criado, fazendo uso da função make_pipeline do sklearn. Neste processo, como modelagem de linguage, foi escolhida a abordagem Bag of Words, que, não obstante simples, obteve uma performance satisfatória. Ademais, foi escolhido o algoritmo *LogisticRegression*, pois ao compararmos com outros algoritmos (como tf-idf com NB que obteve 0.82 de acuracia geral), o seu desempenho foi melhor.\n",
    "\n",
    "4. Foi realizado uma série de testes para verificar métricas relacionadas a performance (acurácia, precision, recall e f1-score) do modelo."
   ]
  },
  {
   "cell_type": "code",
   "execution_count": 3,
   "id": "large-bikini",
   "metadata": {},
   "outputs": [],
   "source": [
    "le = preprocessing.LabelEncoder()\n",
    "df['category_encoded'] = le.fit_transform(df['category'])"
   ]
  },
  {
   "cell_type": "code",
   "execution_count": 4,
   "id": "molecular-christopher",
   "metadata": {},
   "outputs": [],
   "source": [
    "\n",
    "X_train, X_test = train_test_split(df['title'], test_size=0.3, random_state=42)\n",
    "y_train, y_test = train_test_split(df['category_encoded'], test_size=0.3, random_state=42)"
   ]
  },
  {
   "cell_type": "code",
   "execution_count": 5,
   "id": "smoking-accused",
   "metadata": {},
   "outputs": [],
   "source": [
    "# Pipeline\n",
    "model = make_pipeline(CountVectorizer(), LogisticRegression(fit_intercept=True,\n",
    "                   intercept_scaling=1, l1_ratio=None, max_iter=1000,\n",
    "                   multi_class='auto', n_jobs=None, penalty='l2',\n",
    "                   random_state=None, solver='lbfgs', tol=0.0001, verbose=0,\n",
    "                   warm_start=False))"
   ]
  },
  {
   "cell_type": "code",
   "execution_count": 6,
   "id": "advisory-commission",
   "metadata": {},
   "outputs": [
    {
     "name": "stdout",
     "output_type": "stream",
     "text": [
      "train score: 0.9191353383458647\n"
     ]
    }
   ],
   "source": [
    "LogisticRegression = model.fit(X_train,y_train) # apply scaling on training data\n",
    "print(f'train score:', LogisticRegression.score(X_train, y_train))"
   ]
  },
  {
   "cell_type": "code",
   "execution_count": 7,
   "id": "hired-calcium",
   "metadata": {},
   "outputs": [
    {
     "name": "stdout",
     "output_type": "stream",
     "text": [
      "test score: 0.8707017543859649\n"
     ]
    }
   ],
   "source": [
    "LogisticRegression.score(X_test, y_test) #0.8644 com tfidf\n",
    "print(f'test score:',LogisticRegression.score(X_test, y_test))"
   ]
  },
  {
   "cell_type": "code",
   "execution_count": 8,
   "id": "tracked-project",
   "metadata": {},
   "outputs": [],
   "source": [
    "predictions_LogisticRegression = LogisticRegression.predict(X_test)"
   ]
  },
  {
   "cell_type": "code",
   "execution_count": 24,
   "id": "thirty-optimization",
   "metadata": {},
   "outputs": [
    {
     "name": "stdout",
     "output_type": "stream",
     "text": [
      "              precision    recall  f1-score   support\n",
      "\n",
      "           0       0.89      0.81      0.85      2091\n",
      "           1       0.93      0.88      0.91       273\n",
      "           2       0.87      0.89      0.88      2584\n",
      "           3       0.87      0.94      0.90      5265\n",
      "           4       0.80      0.55      0.65       335\n",
      "           5       0.82      0.67      0.74       852\n",
      "\n",
      "    accuracy                           0.87     11400\n",
      "   macro avg       0.86      0.79      0.82     11400\n",
      "weighted avg       0.87      0.87      0.87     11400\n",
      "\n",
      "Nome das classes:  {0: 'Bebê', 1: 'Bijuterias e Jóias', 2: 'Decoração', 3: 'Lembrancinhas', 4: 'Outros', 5: 'Papel e Cia'}\n"
     ]
    }
   ],
   "source": [
    "metrics_results = classification_report(y_test, predictions_LogisticRegression)\n",
    "print(metrics_results) \n",
    "print('Nome das classes: ',{n:i for n, i in enumerate(le.classes_)})"
   ]
  },
  {
   "cell_type": "code",
   "execution_count": 15,
   "id": "informative-template",
   "metadata": {},
   "outputs": [
    {
     "name": "stdout",
     "output_type": "stream",
     "text": [
      "confusion matrix: \n",
      "       0    1     2     3    4    5\n",
      "0  1696    2   110   267    6   10\n",
      "1     3  241    12    15    2    0\n",
      "2    63    7  2306   180   13   15\n",
      "3   104    4   112  4931   22   92\n",
      "4    15    3    55    72  184    6\n",
      "5    22    1    51   207    3  568\n"
     ]
    },
    {
     "data": {
      "image/png": "[encoded data removed]",
      "text/plain": [
       "<Figure size 720x576 with 2 Axes>"
      ]
     },
     "metadata": {
      "needs_background": "light"
     },
     "output_type": "display_data"
    }
   ],
   "source": [
    "cm = confusion_matrix(y_test,predictions_LogisticRegression)\n",
    "df_cm = pd.DataFrame(cm)\n",
    "plt.figure(figsize=(10,8))\n",
    "ax = sns.heatmap(df_cm)\n",
    "print('confusion matrix: \\n',df_cm)"
   ]
  },
  {
   "cell_type": "code",
   "execution_count": 53,
   "id": "handed-bulgarian",
   "metadata": {},
   "outputs": [
    {
     "name": "stdout",
     "output_type": "stream",
     "text": [
      "StratifiedKFold(n_splits=9, random_state=42, shuffle=True)\n",
      "Validation set #1 TRAIN: [    2     3     4 ... 37997 37998 37999] TEST: [    0     1     9 ... 37975 37977 37993]\n",
      "train score: 0.9156230571098677\n",
      "test score: 0.8721288183755624\n",
      "Validation set #2 TRAIN: [    0     1     2 ... 37997 37998 37999] TEST: [   11    18    19 ... 37968 37974 37989]\n",
      "train score: 0.9164816295112058\n",
      "test score: 0.8806535638171916\n",
      "Validation set #3 TRAIN: [    0     1     2 ... 37997 37998 37999] TEST: [    5    12    13 ... 37952 37956 37982]\n",
      "train score: 0.9167209426253775\n",
      "test score: 0.8761250592136428\n",
      "Validation set #4 TRAIN: [    0     1     2 ... 37997 37998 37999] TEST: [   46    48    60 ... 37949 37957 37996]\n",
      "train score: 0.9155663449582568\n",
      "test score: 0.8822832780672667\n",
      "Validation set #5 TRAIN: [    0     1     2 ... 37997 37998 37999] TEST: [   20    24    25 ... 37972 37983 37985]\n",
      "train score: 0.9167801527621529\n",
      "test score: 0.8728090952155376\n",
      "Validation set #6 TRAIN: [    0     1     4 ... 37996 37997 37999] TEST: [    2     3    16 ... 37988 37992 37998]\n",
      "train score: 0.9147966131801765\n",
      "test score: 0.8810990052108005\n",
      "Validation set #7 TRAIN: [    0     1     2 ... 37997 37998 37999] TEST: [    4     8    14 ... 37981 37987 37994]\n",
      "train score: 0.9169873882408668\n",
      "test score: 0.8756513500710563\n",
      "Validation set #8 TRAIN: [    0     1     2 ... 37996 37997 37998] TEST: [    7    28    40 ... 37990 37991 37999]\n",
      "train score: 0.9155663449582568\n",
      "test score: 0.8886783514921838\n",
      "Validation set #9 TRAIN: [    0     1     2 ... 37996 37998 37999] TEST: [    6    15    26 ... 37979 37995 37997]\n",
      "train score: 0.9148262182485641\n",
      "test score: 0.8792041686404548\n"
     ]
    }
   ],
   "source": [
    "skf = StratifiedKFold(n_splits=9, random_state=42, shuffle=True)\n",
    "print(skf)\n",
    "\n",
    "X = df['title']\n",
    "y = df['category_encoded']\n",
    "\n",
    "for i, [train_index, test_index] in enumerate(skf.split(X, y)):\n",
    "        print('Validation set #%d' % (i+1), \"TRAIN:\", train_index, \"TEST:\", test_index)\n",
    "        X_train, X_test = X[train_index], X[test_index]\n",
    "        y_train, y_test = y[train_index], y[test_index]\n",
    "        LogisticRegression = model.fit(X_train,y_train) # apply scaling on training data\n",
    "        print(f'train score:', LogisticRegression.score(X_train, y_train))\n",
    "        LogisticRegression.score(X_test, y_test) #0.87035 com count e 0.8644 com tfidf\n",
    "        print(f'test score:',LogisticRegression.score(X_test, y_test))"
   ]
  },
  {
   "cell_type": "markdown",
   "id": "agricultural-particle",
   "metadata": {},
   "source": [
    "# Export model and results"
   ]
  },
  {
   "cell_type": "code",
   "execution_count": 19,
   "id": "governing-writing",
   "metadata": {},
   "outputs": [],
   "source": [
    "model_path = os.getenv(\"MODEL_PATH\")"
   ]
  },
  {
   "cell_type": "code",
   "execution_count": 20,
   "id": "streaming-blank",
   "metadata": {},
   "outputs": [],
   "source": [
    "metrics_path = os.getenv(\"METRICS_PATH\")"
   ]
  },
  {
   "cell_type": "code",
   "execution_count": 23,
   "id": "innocent-chart",
   "metadata": {},
   "outputs": [
    {
     "name": "stdout",
     "output_type": "stream",
     "text": [
      "Test score: 87.07 %\n"
     ]
    },
    {
     "data": {
      "image/png": "[encoded data removed]",
      "text/plain": [
       "<Figure size 432x288 with 2 Axes>"
      ]
     },
     "metadata": {
      "needs_background": "light"
     },
     "output_type": "display_data"
    }
   ],
   "source": [
    "sns.heatmap(df_cm).figure.savefig(os.path.join('/usr/src/data/', 'confusion_matrix_heatmap.png'))\n",
    "\n",
    "pkl_filename = \"model.pkl\"\n",
    "with open(model_path, 'wb') as file:\n",
    "    pickle.dump(model, file)\n",
    "\n",
    "with open(metrics_path, 'w') as file:\n",
    "    file.write(metrics_results)\n",
    "    \n",
    "\n",
    "# Verificando se o arquivo pickle foi escrito corretamente\n",
    "    \n",
    "with open(pkl_filename, 'rb') as file:\n",
    "    pickle_model = pickle.load(file)\n",
    "\n",
    "    \n",
    "score = pickle_model.score(X_test, y_test)\n",
    "print(\"Test score: {0:.2f} %\".format(100 * score))\n",
    "Ypredict = pickle_model.predict(X_test)"
   ]
  },
  {
   "cell_type": "code",
   "execution_count": null,
   "id": "adult-retro",
   "metadata": {},
   "outputs": [],
   "source": []
  }
 ],
 "metadata": {
  "kernelspec": {
   "display_name": "Python 3",
   "language": "python",
   "name": "python3"
  },
  "language_info": {
   "codemirror_mode": {
    "name": "ipython",
    "version": 3
   },
   "file_extension": ".py",
   "mimetype": "text/x-python",
   "name": "python",
   "nbconvert_exporter": "python",
   "pygments_lexer": "ipython3",
   "version": "3.9.1"
  }
 },
 "nbformat": 4,
 "nbformat_minor": 5
}
